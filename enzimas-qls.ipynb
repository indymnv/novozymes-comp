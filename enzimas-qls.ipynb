{
 "cells": [
  {
   "cell_type": "code",
   "execution_count": 1,
   "id": "38d9e572",
   "metadata": {
    "_cell_guid": "b1076dfc-b9ad-4769-8c92-a6c4dae69d19",
    "_uuid": "8f2839f25d086af736a60e9eeb907d3b93b6e0e5",
    "execution": {
     "iopub.execute_input": "2022-10-22T00:46:12.460919Z",
     "iopub.status.busy": "2022-10-22T00:46:12.459865Z",
     "iopub.status.idle": "2022-10-22T00:46:13.750822Z",
     "shell.execute_reply": "2022-10-22T00:46:13.748689Z"
    },
    "papermill": {
     "duration": 1.304602,
     "end_time": "2022-10-22T00:46:13.757079",
     "exception": false,
     "start_time": "2022-10-22T00:46:12.452477",
     "status": "completed"
    },
    "tags": []
   },
   "outputs": [
    {
     "name": "stdout",
     "output_type": "stream",
     "text": [
      "/kaggle/input/novozymes-enzyme-stability-prediction/sample_submission.csv\n",
      "/kaggle/input/novozymes-enzyme-stability-prediction/wildtype_structure_prediction_af2.pdb\n",
      "/kaggle/input/novozymes-enzyme-stability-prediction/train.csv\n",
      "/kaggle/input/novozymes-enzyme-stability-prediction/test.csv\n",
      "/kaggle/input/novozymes-enzyme-stability-prediction/train_updates_20220929.csv\n"
     ]
    }
   ],
   "source": [
    "# This Python 3 environment comes with many helpful analytics libraries installed\n",
    "# It is defined by the kaggle/python Docker image: https://github.com/kaggle/docker-python\n",
    "# For example, here's several helpful packages to load\n",
    "\n",
    "import numpy as np # linear algebra\n",
    "import pandas as pd # data processing, CSV file I/O (e.g. pd.read_csv)\n",
    "import matplotlib as plt\n",
    "import seaborn\n",
    "\n",
    "# Input data files are available in the read-only \"../input/\" directory\n",
    "# For example, running this (by clicking run or pressing Shift+Enter) will list all files under the input directory\n",
    "\n",
    "import os\n",
    "for dirname, _, filenames in os.walk('/kaggle/input'):\n",
    "    for filename in filenames:\n",
    "        print(os.path.join(dirname, filename))\n",
    "\n",
    "# You can write up to 20GB to the current directory (/kaggle/working/) that gets preserved as output when you create a version using \"Save & Run All\" \n",
    "# You can also write temporary files to /kaggle/temp/, but they won't be saved outside of the current session"
   ]
  },
  {
   "cell_type": "code",
   "execution_count": 2,
   "id": "72a6ff4a",
   "metadata": {
    "execution": {
     "iopub.execute_input": "2022-10-22T00:46:13.766869Z",
     "iopub.status.busy": "2022-10-22T00:46:13.764408Z",
     "iopub.status.idle": "2022-10-22T00:46:14.276730Z",
     "shell.execute_reply": "2022-10-22T00:46:14.274928Z"
    },
    "papermill": {
     "duration": 0.520252,
     "end_time": "2022-10-22T00:46:14.280468",
     "exception": false,
     "start_time": "2022-10-22T00:46:13.760216",
     "status": "completed"
    },
    "tags": []
   },
   "outputs": [],
   "source": [
    "train = pd.read_csv(\"/kaggle/input/novozymes-enzyme-stability-prediction/train.csv\")\n",
    "test = pd.read_csv(\"/kaggle/input/novozymes-enzyme-stability-prediction/test.csv\")\n",
    "sample = pd.read_csv(\"/kaggle/input/novozymes-enzyme-stability-prediction/sample_submission.csv\")\n",
    "updates = pd.read_csv(\"/kaggle/input/novozymes-enzyme-stability-prediction/train_updates_20220929.csv\")\n"
   ]
  },
  {
   "cell_type": "code",
   "execution_count": 3,
   "id": "03209b40",
   "metadata": {
    "execution": {
     "iopub.execute_input": "2022-10-22T00:46:14.293686Z",
     "iopub.status.busy": "2022-10-22T00:46:14.291488Z",
     "iopub.status.idle": "2022-10-22T00:46:14.319864Z",
     "shell.execute_reply": "2022-10-22T00:46:14.318155Z"
    },
    "papermill": {
     "duration": 0.038822,
     "end_time": "2022-10-22T00:46:14.323042",
     "exception": false,
     "start_time": "2022-10-22T00:46:14.284220",
     "status": "completed"
    },
    "tags": []
   },
   "outputs": [
    {
     "data": {
      "text/html": [
       "<div>\n",
       "<style scoped>\n",
       "    .dataframe tbody tr th:only-of-type {\n",
       "        vertical-align: middle;\n",
       "    }\n",
       "\n",
       "    .dataframe tbody tr th {\n",
       "        vertical-align: top;\n",
       "    }\n",
       "\n",
       "    .dataframe thead th {\n",
       "        text-align: right;\n",
       "    }\n",
       "</style>\n",
       "<table border=\"1\" class=\"dataframe\">\n",
       "  <thead>\n",
       "    <tr style=\"text-align: right;\">\n",
       "      <th></th>\n",
       "      <th>seq_id</th>\n",
       "      <th>protein_sequence</th>\n",
       "      <th>pH</th>\n",
       "      <th>data_source</th>\n",
       "      <th>tm</th>\n",
       "    </tr>\n",
       "  </thead>\n",
       "  <tbody>\n",
       "    <tr>\n",
       "      <th>0</th>\n",
       "      <td>0</td>\n",
       "      <td>AAAAKAAALALLGEAPEVVDIWLPAGWRQPFRVFRLERKGDGVLVG...</td>\n",
       "      <td>7.0</td>\n",
       "      <td>doi.org/10.1038/s41592-020-0801-4</td>\n",
       "      <td>75.7</td>\n",
       "    </tr>\n",
       "  </tbody>\n",
       "</table>\n",
       "</div>"
      ],
      "text/plain": [
       "   seq_id                                   protein_sequence   pH  \\\n",
       "0       0  AAAAKAAALALLGEAPEVVDIWLPAGWRQPFRVFRLERKGDGVLVG...  7.0   \n",
       "\n",
       "                         data_source    tm  \n",
       "0  doi.org/10.1038/s41592-020-0801-4  75.7  "
      ]
     },
     "execution_count": 3,
     "metadata": {},
     "output_type": "execute_result"
    }
   ],
   "source": [
    "train.head(1)"
   ]
  },
  {
   "cell_type": "code",
   "execution_count": 4,
   "id": "34689d9e",
   "metadata": {
    "execution": {
     "iopub.execute_input": "2022-10-22T00:46:14.331916Z",
     "iopub.status.busy": "2022-10-22T00:46:14.330648Z",
     "iopub.status.idle": "2022-10-22T00:46:14.776493Z",
     "shell.execute_reply": "2022-10-22T00:46:14.775522Z"
    },
    "papermill": {
     "duration": 0.453078,
     "end_time": "2022-10-22T00:46:14.779288",
     "exception": false,
     "start_time": "2022-10-22T00:46:14.326210",
     "status": "completed"
    },
    "tags": []
   },
   "outputs": [
    {
     "data": {
      "text/plain": [
       "<AxesSubplot:ylabel='Frequency'>"
      ]
     },
     "execution_count": 4,
     "metadata": {},
     "output_type": "execute_result"
    },
    {
     "data": {
      "image/png": "[encoded data removed]",
      "text/plain": [
       "<Figure size 432x288 with 1 Axes>"
      ]
     },
     "metadata": {
      "needs_background": "light"
     },
     "output_type": "display_data"
    }
   ],
   "source": [
    "train.tm.plot(kind =\"hist\", bins = 100)"
   ]
  },
  {
   "cell_type": "code",
   "execution_count": 5,
   "id": "65ce3a6a",
   "metadata": {
    "execution": {
     "iopub.execute_input": "2022-10-22T00:46:14.788528Z",
     "iopub.status.busy": "2022-10-22T00:46:14.788041Z",
     "iopub.status.idle": "2022-10-22T00:46:14.804359Z",
     "shell.execute_reply": "2022-10-22T00:46:14.803163Z"
    },
    "papermill": {
     "duration": 0.024108,
     "end_time": "2022-10-22T00:46:14.806826",
     "exception": false,
     "start_time": "2022-10-22T00:46:14.782718",
     "status": "completed"
    },
    "tags": []
   },
   "outputs": [
    {
     "data": {
      "text/plain": [
       "count    31390.000000\n",
       "mean        49.147337\n",
       "std         14.010089\n",
       "min         -1.000000\n",
       "25%         42.100000\n",
       "50%         48.000000\n",
       "75%         53.800000\n",
       "max        130.000000\n",
       "Name: tm, dtype: float64"
      ]
     },
     "execution_count": 5,
     "metadata": {},
     "output_type": "execute_result"
    }
   ],
   "source": [
    "train.tm.describe()"
   ]
  },
  {
   "cell_type": "code",
   "execution_count": null,
   "id": "ecd5b3b8",
   "metadata": {
    "papermill": {
     "duration": 0.002914,
     "end_time": "2022-10-22T00:46:14.813115",
     "exception": false,
     "start_time": "2022-10-22T00:46:14.810201",
     "status": "completed"
    },
    "tags": []
   },
   "outputs": [],
   "source": []
  }
 ],
 "metadata": {
  "kernelspec": {
   "display_name": "Python 3",
   "language": "python",
   "name": "python3"
  },
  "language_info": {
   "codemirror_mode": {
    "name": "ipython",
    "version": 3
   },
   "file_extension": ".py",
   "mimetype": "text/x-python",
   "name": "python",
   "nbconvert_exporter": "python",
   "pygments_lexer": "ipython3",
   "version": "3.7.12"
  },
  "papermill": {
   "default_parameters": {},
   "duration": 12.594557,
   "end_time": "2022-10-22T00:46:15.840668",
   "environment_variables": {},
   "exception": null,
   "input_path": "__notebook__.ipynb",
   "output_path": "__notebook__.ipynb",
   "parameters": {},
   "start_time": "2022-10-22T00:46:03.246111",
   "version": "2.3.4"
  }
 },
 "nbformat": 4,
 "nbformat_minor": 5
}
