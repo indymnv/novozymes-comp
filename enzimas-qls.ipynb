{
 "cells": [
  {
   "cell_type": "code",
   "execution_count": 1,
   "id": "b1645fc0",
   "metadata": {
    "_cell_guid": "b1076dfc-b9ad-4769-8c92-a6c4dae69d19",
    "_uuid": "8f2839f25d086af736a60e9eeb907d3b93b6e0e5",
    "execution": {
     "iopub.execute_input": "2022-10-23T12:29:58.407467Z",
     "iopub.status.busy": "2022-10-23T12:29:58.406339Z",
     "iopub.status.idle": "2022-10-23T12:29:59.817737Z",
     "shell.execute_reply": "2022-10-23T12:29:59.816524Z"
    },
    "papermill": {
     "duration": 1.425192,
     "end_time": "2022-10-23T12:29:59.822232",
     "exception": false,
     "start_time": "2022-10-23T12:29:58.397040",
     "status": "completed"
    },
    "tags": []
   },
   "outputs": [
    {
     "name": "stdout",
     "output_type": "stream",
     "text": [
      "/kaggle/input/novozymes-enzyme-stability-prediction/sample_submission.csv\n",
      "/kaggle/input/novozymes-enzyme-stability-prediction/wildtype_structure_prediction_af2.pdb\n",
      "/kaggle/input/novozymes-enzyme-stability-prediction/train.csv\n",
      "/kaggle/input/novozymes-enzyme-stability-prediction/test.csv\n",
      "/kaggle/input/novozymes-enzyme-stability-prediction/train_updates_20220929.csv\n"
     ]
    }
   ],
   "source": [
    "# This Python 3 environment comes with many helpful analytics libraries installed\n",
    "# It is defined by the kaggle/python Docker image: https://github.com/kaggle/docker-python\n",
    "# For example, here's several helpful packages to load\n",
    "\n",
    "import numpy as np # linear algebra\n",
    "import pandas as pd # data processing, CSV file I/O (e.g. pd.read_csv)\n",
    "import matplotlib.pyplot as plt\n",
    "import seaborn as sns\n",
    "import xgboost as xgb\n",
    "from sklearn.preprocessing import OrdinalEncoder\n",
    "from sklearn.model_selection import train_test_split\n",
    "\n",
    "# Input data files are available in the read-only \"../input/\" directory\n",
    "# For example, running this (by clicking run or pressing Shift+Enter) will list all files under the input directory\n",
    "\n",
    "import os\n",
    "for dirname, _, filenames in os.walk('/kaggle/input'):\n",
    "    for filename in filenames:\n",
    "        print(os.path.join(dirname, filename))\n",
    "\n",
    "# You can write up to 20GB to the current directory (/kaggle/working/) that gets preserved as output when you create a version using \"Save & Run All\" \n",
    "# You can also write temporary files to /kaggle/temp/, but they won't be saved outside of the current session"
   ]
  },
  {
   "cell_type": "code",
   "execution_count": 2,
   "id": "a3a883b4",
   "metadata": {
    "execution": {
     "iopub.execute_input": "2022-10-23T12:29:59.837133Z",
     "iopub.status.busy": "2022-10-23T12:29:59.836692Z",
     "iopub.status.idle": "2022-10-23T12:30:00.259914Z",
     "shell.execute_reply": "2022-10-23T12:30:00.258824Z"
    },
    "papermill": {
     "duration": 0.433474,
     "end_time": "2022-10-23T12:30:00.262608",
     "exception": false,
     "start_time": "2022-10-23T12:29:59.829134",
     "status": "completed"
    },
    "tags": []
   },
   "outputs": [],
   "source": [
    "train = pd.read_csv(\"/kaggle/input/novozymes-enzyme-stability-prediction/train.csv\")\n",
    "test = pd.read_csv(\"/kaggle/input/novozymes-enzyme-stability-prediction/test.csv\")\n",
    "sample = pd.read_csv(\"/kaggle/input/novozymes-enzyme-stability-prediction/sample_submission.csv\")\n",
    "updates = pd.read_csv(\"/kaggle/input/novozymes-enzyme-stability-prediction/train_updates_20220929.csv\")\n"
   ]
  },
  {
   "cell_type": "code",
   "execution_count": 3,
   "id": "bb49f594",
   "metadata": {
    "execution": {
     "iopub.execute_input": "2022-10-23T12:30:00.278579Z",
     "iopub.status.busy": "2022-10-23T12:30:00.277010Z",
     "iopub.status.idle": "2022-10-23T12:30:00.288475Z",
     "shell.execute_reply": "2022-10-23T12:30:00.286873Z"
    },
    "papermill": {
     "duration": 0.02186,
     "end_time": "2022-10-23T12:30:00.291123",
     "exception": false,
     "start_time": "2022-10-23T12:30:00.269263",
     "status": "completed"
    },
    "tags": []
   },
   "outputs": [
    {
     "data": {
      "text/plain": [
       "(31390, 5)"
      ]
     },
     "execution_count": 3,
     "metadata": {},
     "output_type": "execute_result"
    }
   ],
   "source": [
    "train.shape"
   ]
  },
  {
   "cell_type": "code",
   "execution_count": 4,
   "id": "20a1d19c",
   "metadata": {
    "execution": {
     "iopub.execute_input": "2022-10-23T12:30:00.307110Z",
     "iopub.status.busy": "2022-10-23T12:30:00.305990Z",
     "iopub.status.idle": "2022-10-23T12:30:00.327664Z",
     "shell.execute_reply": "2022-10-23T12:30:00.326775Z"
    },
    "papermill": {
     "duration": 0.032313,
     "end_time": "2022-10-23T12:30:00.330156",
     "exception": false,
     "start_time": "2022-10-23T12:30:00.297843",
     "status": "completed"
    },
    "tags": []
   },
   "outputs": [
    {
     "data": {
      "text/html": [
       "<div>\n",
       "<style scoped>\n",
       "    .dataframe tbody tr th:only-of-type {\n",
       "        vertical-align: middle;\n",
       "    }\n",
       "\n",
       "    .dataframe tbody tr th {\n",
       "        vertical-align: top;\n",
       "    }\n",
       "\n",
       "    .dataframe thead th {\n",
       "        text-align: right;\n",
       "    }\n",
       "</style>\n",
       "<table border=\"1\" class=\"dataframe\">\n",
       "  <thead>\n",
       "    <tr style=\"text-align: right;\">\n",
       "      <th></th>\n",
       "      <th>seq_id</th>\n",
       "      <th>protein_sequence</th>\n",
       "      <th>pH</th>\n",
       "      <th>data_source</th>\n",
       "      <th>tm</th>\n",
       "    </tr>\n",
       "  </thead>\n",
       "  <tbody>\n",
       "    <tr>\n",
       "      <th>0</th>\n",
       "      <td>0</td>\n",
       "      <td>AAAAKAAALALLGEAPEVVDIWLPAGWRQPFRVFRLERKGDGVLVG...</td>\n",
       "      <td>7.0</td>\n",
       "      <td>doi.org/10.1038/s41592-020-0801-4</td>\n",
       "      <td>75.7</td>\n",
       "    </tr>\n",
       "  </tbody>\n",
       "</table>\n",
       "</div>"
      ],
      "text/plain": [
       "   seq_id                                   protein_sequence   pH  \\\n",
       "0       0  AAAAKAAALALLGEAPEVVDIWLPAGWRQPFRVFRLERKGDGVLVG...  7.0   \n",
       "\n",
       "                         data_source    tm  \n",
       "0  doi.org/10.1038/s41592-020-0801-4  75.7  "
      ]
     },
     "execution_count": 4,
     "metadata": {},
     "output_type": "execute_result"
    }
   ],
   "source": [
    "train.head(1)"
   ]
  },
  {
   "cell_type": "markdown",
   "id": "22729409",
   "metadata": {
    "papermill": {
     "duration": 0.005854,
     "end_time": "2022-10-23T12:30:00.342022",
     "exception": false,
     "start_time": "2022-10-23T12:30:00.336168",
     "status": "completed"
    },
    "tags": []
   },
   "source": [
    "Probablemente una distribución que se acerca bastante a la gama"
   ]
  },
  {
   "cell_type": "code",
   "execution_count": 5,
   "id": "bc7e954d",
   "metadata": {
    "execution": {
     "iopub.execute_input": "2022-10-23T12:30:00.356468Z",
     "iopub.status.busy": "2022-10-23T12:30:00.355765Z",
     "iopub.status.idle": "2022-10-23T12:30:01.051173Z",
     "shell.execute_reply": "2022-10-23T12:30:01.049552Z"
    },
    "papermill": {
     "duration": 0.705801,
     "end_time": "2022-10-23T12:30:01.053904",
     "exception": false,
     "start_time": "2022-10-23T12:30:00.348103",
     "status": "completed"
    },
    "tags": []
   },
   "outputs": [
    {
     "name": "stderr",
     "output_type": "stream",
     "text": [
      "/opt/conda/lib/python3.7/site-packages/seaborn/_decorators.py:43: FutureWarning: Pass the following variable as a keyword arg: x. From version 0.12, the only valid positional argument will be `data`, and passing other arguments without an explicit keyword will result in an error or misinterpretation.\n",
      "  FutureWarning\n"
     ]
    },
    {
     "data": {
      "image/png": "[encoded data removed]",
      "text/plain": [
       "<Figure size 432x288 with 2 Axes>"
      ]
     },
     "metadata": {},
     "output_type": "display_data"
    },
    {
     "name": "stdout",
     "output_type": "stream",
     "text": [
      "count    31390.000000\n",
      "mean        49.147337\n",
      "std         14.010089\n",
      "min         -1.000000\n",
      "25%         42.100000\n",
      "50%         48.000000\n",
      "75%         53.800000\n",
      "max        130.000000\n",
      "Name: tm, dtype: float64\n"
     ]
    }
   ],
   "source": [
    "\n",
    "sns.set(style=\"darkgrid\")\n",
    " \n",
    "# creating a figure composed of two matplotlib.Axes objects (ax_box and ax_hist)\n",
    "f, (ax_box, ax_hist) = plt.subplots(2, sharex=True, gridspec_kw={\"height_ratios\": (.15, .85)})\n",
    " \n",
    "# assigning a graph to each ax\n",
    "sns.boxplot(train[\"tm\"], ax=ax_box)\n",
    "sns.histplot(data=train, x=\"tm\", ax=ax_hist)\n",
    " \n",
    "# Remove x axis name for the boxplot\n",
    "ax_box.set(xlabel='')\n",
    "plt.show()\n",
    "\n",
    "print(train.tm.describe())"
   ]
  },
  {
   "cell_type": "code",
   "execution_count": 6,
   "id": "f0e56aeb",
   "metadata": {
    "execution": {
     "iopub.execute_input": "2022-10-23T12:30:01.069526Z",
     "iopub.status.busy": "2022-10-23T12:30:01.068543Z",
     "iopub.status.idle": "2022-10-23T12:30:01.463911Z",
     "shell.execute_reply": "2022-10-23T12:30:01.462558Z"
    },
    "papermill": {
     "duration": 0.405878,
     "end_time": "2022-10-23T12:30:01.466498",
     "exception": false,
     "start_time": "2022-10-23T12:30:01.060620",
     "status": "completed"
    },
    "tags": []
   },
   "outputs": [
    {
     "name": "stdout",
     "output_type": "stream",
     "text": [
      "count    31104.000000\n",
      "mean         6.892339\n",
      "std          1.612225\n",
      "min          1.990000\n",
      "25%          7.000000\n",
      "50%          7.000000\n",
      "75%          7.000000\n",
      "max         64.900000\n",
      "Name: pH, dtype: float64\n"
     ]
    },
    {
     "data": {
      "text/plain": [
       "<AxesSubplot:ylabel='Frequency'>"
      ]
     },
     "execution_count": 6,
     "metadata": {},
     "output_type": "execute_result"
    },
    {
     "data": {
      "image/png": "[encoded data removed]",
      "text/plain": [
       "<Figure size 432x288 with 1 Axes>"
      ]
     },
     "metadata": {},
     "output_type": "display_data"
    }
   ],
   "source": [
    "print(train.pH.describe())\n",
    "train.pH.plot(kind=\"hist\", bins= 50)"
   ]
  },
  {
   "cell_type": "markdown",
   "id": "cb067eb6",
   "metadata": {
    "papermill": {
     "duration": 0.008137,
     "end_time": "2022-10-23T12:30:01.481473",
     "exception": false,
     "start_time": "2022-10-23T12:30:01.473336",
     "status": "completed"
    },
    "tags": []
   },
   "source": [
    "Secuencias de las proteinas son casi todas diferentes 28891 de las casi 31 mil"
   ]
  },
  {
   "cell_type": "code",
   "execution_count": 7,
   "id": "8f25284a",
   "metadata": {
    "execution": {
     "iopub.execute_input": "2022-10-23T12:30:01.496822Z",
     "iopub.status.busy": "2022-10-23T12:30:01.496380Z",
     "iopub.status.idle": "2022-10-23T12:30:01.809165Z",
     "shell.execute_reply": "2022-10-23T12:30:01.807871Z"
    },
    "papermill": {
     "duration": 0.323825,
     "end_time": "2022-10-23T12:30:01.811977",
     "exception": false,
     "start_time": "2022-10-23T12:30:01.488152",
     "status": "completed"
    },
    "tags": []
   },
   "outputs": [
    {
     "data": {
      "image/png": "[encoded data removed]",
      "text/plain": [
       "<Figure size 432x288 with 1 Axes>"
      ]
     },
     "metadata": {},
     "output_type": "display_data"
    }
   ],
   "source": [
    "plt.scatter(train.tm, train.pH)\n",
    "plt.show()"
   ]
  },
  {
   "cell_type": "code",
   "execution_count": 8,
   "id": "d33050d3",
   "metadata": {
    "execution": {
     "iopub.execute_input": "2022-10-23T12:30:01.829531Z",
     "iopub.status.busy": "2022-10-23T12:30:01.829054Z",
     "iopub.status.idle": "2022-10-23T12:30:01.877840Z",
     "shell.execute_reply": "2022-10-23T12:30:01.876611Z"
    },
    "papermill": {
     "duration": 0.060787,
     "end_time": "2022-10-23T12:30:01.880193",
     "exception": false,
     "start_time": "2022-10-23T12:30:01.819406",
     "status": "completed"
    },
    "tags": []
   },
   "outputs": [
    {
     "data": {
      "text/plain": [
       "28981"
      ]
     },
     "execution_count": 8,
     "metadata": {},
     "output_type": "execute_result"
    }
   ],
   "source": [
    "len(train.protein_sequence.unique())"
   ]
  },
  {
   "cell_type": "code",
   "execution_count": 9,
   "id": "f55c337d",
   "metadata": {
    "execution": {
     "iopub.execute_input": "2022-10-23T12:30:01.896083Z",
     "iopub.status.busy": "2022-10-23T12:30:01.895657Z",
     "iopub.status.idle": "2022-10-23T12:30:01.915280Z",
     "shell.execute_reply": "2022-10-23T12:30:01.913937Z"
    },
    "papermill": {
     "duration": 0.031136,
     "end_time": "2022-10-23T12:30:01.918366",
     "exception": false,
     "start_time": "2022-10-23T12:30:01.887230",
     "status": "completed"
    },
    "tags": []
   },
   "outputs": [],
   "source": [
    "def split_data(df):\n",
    "    X_train, y_train, X_test, y_test = train_test_split(df, df.tm, test_size = 0.33, random_state = 123)\n",
    "    return X_train, y_train, X_test, y_test\n",
    "\n",
    "X_train, X_test , y_train, y_test = split_data(train)\n",
    "X_train.drop('tm', axis=1, inplace=True)\n",
    "X_test.drop('tm', axis=1, inplace=True)"
   ]
  },
  {
   "cell_type": "code",
   "execution_count": 10,
   "id": "09bfdd14",
   "metadata": {
    "execution": {
     "iopub.execute_input": "2022-10-23T12:30:01.935071Z",
     "iopub.status.busy": "2022-10-23T12:30:01.934629Z",
     "iopub.status.idle": "2022-10-23T12:30:02.943321Z",
     "shell.execute_reply": "2022-10-23T12:30:02.941790Z"
    },
    "papermill": {
     "duration": 1.020523,
     "end_time": "2022-10-23T12:30:02.946374",
     "exception": false,
     "start_time": "2022-10-23T12:30:01.925851",
     "status": "completed"
    },
    "tags": []
   },
   "outputs": [],
   "source": [
    "def feature_extraction(df):\n",
    "    df[\"len_protein\"] = df['protein_sequence'].apply(lambda x: len(x))\n",
    "    df[\"unique_protein\"] = df['protein_sequence'].apply(set).apply(len)\n",
    "    df[\"num_A\"] = df.protein_sequence.str.count('A')\n",
    "    df[\"num_M\"] = df.protein_sequence.str.count('M')\n",
    "    df[\"num_E\"] = df.protein_sequence.str.count('E')\n",
    "    df[\"num_N\"] = df.protein_sequence.str.count('N')\n",
    "    df[\"num_S\"] = df.protein_sequence.str.count('S')\n",
    "    df[\"num_V\"] = df.protein_sequence.str.count('V')\n",
    "    \n",
    "    return df\n",
    "\n",
    "X_train = feature_extraction(X_train)\n",
    "X_test = feature_extraction(X_test)\n",
    "    "
   ]
  },
  {
   "cell_type": "code",
   "execution_count": 11,
   "id": "f15e0217",
   "metadata": {
    "execution": {
     "iopub.execute_input": "2022-10-23T12:30:02.963723Z",
     "iopub.status.busy": "2022-10-23T12:30:02.963265Z",
     "iopub.status.idle": "2022-10-23T12:30:02.986160Z",
     "shell.execute_reply": "2022-10-23T12:30:02.984953Z"
    },
    "papermill": {
     "duration": 0.034618,
     "end_time": "2022-10-23T12:30:02.988634",
     "exception": false,
     "start_time": "2022-10-23T12:30:02.954016",
     "status": "completed"
    },
    "tags": []
   },
   "outputs": [
    {
     "data": {
      "text/html": [
       "<div>\n",
       "<style scoped>\n",
       "    .dataframe tbody tr th:only-of-type {\n",
       "        vertical-align: middle;\n",
       "    }\n",
       "\n",
       "    .dataframe tbody tr th {\n",
       "        vertical-align: top;\n",
       "    }\n",
       "\n",
       "    .dataframe thead th {\n",
       "        text-align: right;\n",
       "    }\n",
       "</style>\n",
       "<table border=\"1\" class=\"dataframe\">\n",
       "  <thead>\n",
       "    <tr style=\"text-align: right;\">\n",
       "      <th></th>\n",
       "      <th>seq_id</th>\n",
       "      <th>protein_sequence</th>\n",
       "      <th>pH</th>\n",
       "      <th>data_source</th>\n",
       "      <th>len_protein</th>\n",
       "      <th>unique_protein</th>\n",
       "      <th>num_A</th>\n",
       "      <th>num_M</th>\n",
       "      <th>num_E</th>\n",
       "      <th>num_N</th>\n",
       "      <th>num_S</th>\n",
       "      <th>num_V</th>\n",
       "    </tr>\n",
       "  </thead>\n",
       "  <tbody>\n",
       "    <tr>\n",
       "      <th>18894</th>\n",
       "      <td>18894</td>\n",
       "      <td>MNIFEMLRIDERLRLKIYKDTEGYYTIGIGHLLTKSPSLNAAKSEL...</td>\n",
       "      <td>3.0</td>\n",
       "      <td>10.1016/0022-2836(84)90474-1</td>\n",
       "      <td>164</td>\n",
       "      <td>20</td>\n",
       "      <td>15</td>\n",
       "      <td>4</td>\n",
       "      <td>8</td>\n",
       "      <td>12</td>\n",
       "      <td>6</td>\n",
       "      <td>10</td>\n",
       "    </tr>\n",
       "    <tr>\n",
       "      <th>20525</th>\n",
       "      <td>20525</td>\n",
       "      <td>MPNMSSIKAEQQSGPLGGSSGYQVPVNMCTTTVANTTTTLGSSAGG...</td>\n",
       "      <td>7.0</td>\n",
       "      <td>doi.org/10.1038/s41592-020-0801-4</td>\n",
       "      <td>807</td>\n",
       "      <td>20</td>\n",
       "      <td>61</td>\n",
       "      <td>19</td>\n",
       "      <td>47</td>\n",
       "      <td>38</td>\n",
       "      <td>103</td>\n",
       "      <td>36</td>\n",
       "    </tr>\n",
       "    <tr>\n",
       "      <th>10626</th>\n",
       "      <td>10626</td>\n",
       "      <td>MFNIVVIASGNGSNFQAVIDAIDSGLINARIIKLISDNERANALNR...</td>\n",
       "      <td>7.0</td>\n",
       "      <td>doi.org/10.1038/s41592-020-0801-4</td>\n",
       "      <td>201</td>\n",
       "      <td>19</td>\n",
       "      <td>12</td>\n",
       "      <td>4</td>\n",
       "      <td>10</td>\n",
       "      <td>15</td>\n",
       "      <td>17</td>\n",
       "      <td>15</td>\n",
       "    </tr>\n",
       "    <tr>\n",
       "      <th>10704</th>\n",
       "      <td>10704</td>\n",
       "      <td>MFRGATLVNLDSKGRLSVPTRYREQLLENAAGQMVCTIDIYHPCLL...</td>\n",
       "      <td>7.0</td>\n",
       "      <td>doi.org/10.1038/s41592-020-0801-4</td>\n",
       "      <td>151</td>\n",
       "      <td>20</td>\n",
       "      <td>9</td>\n",
       "      <td>5</td>\n",
       "      <td>13</td>\n",
       "      <td>4</td>\n",
       "      <td>8</td>\n",
       "      <td>9</td>\n",
       "    </tr>\n",
       "    <tr>\n",
       "      <th>17781</th>\n",
       "      <td>17781</td>\n",
       "      <td>MMSFVSLLLVGILFHATQAEQLTKCEVFQKLKDLKDYGGVSLPEWV...</td>\n",
       "      <td>3.7</td>\n",
       "      <td>NaN</td>\n",
       "      <td>142</td>\n",
       "      <td>20</td>\n",
       "      <td>7</td>\n",
       "      <td>2</td>\n",
       "      <td>6</td>\n",
       "      <td>8</td>\n",
       "      <td>8</td>\n",
       "      <td>8</td>\n",
       "    </tr>\n",
       "    <tr>\n",
       "      <th>...</th>\n",
       "      <td>...</td>\n",
       "      <td>...</td>\n",
       "      <td>...</td>\n",
       "      <td>...</td>\n",
       "      <td>...</td>\n",
       "      <td>...</td>\n",
       "      <td>...</td>\n",
       "      <td>...</td>\n",
       "      <td>...</td>\n",
       "      <td>...</td>\n",
       "      <td>...</td>\n",
       "      <td>...</td>\n",
       "    </tr>\n",
       "    <tr>\n",
       "      <th>28636</th>\n",
       "      <td>28636</td>\n",
       "      <td>MVKIVTVKTQAYPDQKPGTSGLRKRVKVFQSNANYAENFIQSIVST...</td>\n",
       "      <td>7.0</td>\n",
       "      <td>doi.org/10.1038/s41592-020-0801-4</td>\n",
       "      <td>561</td>\n",
       "      <td>20</td>\n",
       "      <td>50</td>\n",
       "      <td>12</td>\n",
       "      <td>30</td>\n",
       "      <td>27</td>\n",
       "      <td>35</td>\n",
       "      <td>39</td>\n",
       "    </tr>\n",
       "    <tr>\n",
       "      <th>17730</th>\n",
       "      <td>17730</td>\n",
       "      <td>MMNYQYDVSVIIPAKNVEKFLRETLNGLLDQTACENSKIEICLADD...</td>\n",
       "      <td>7.0</td>\n",
       "      <td>doi.org/10.1038/s41592-020-0801-4</td>\n",
       "      <td>356</td>\n",
       "      <td>20</td>\n",
       "      <td>16</td>\n",
       "      <td>6</td>\n",
       "      <td>25</td>\n",
       "      <td>14</td>\n",
       "      <td>24</td>\n",
       "      <td>31</td>\n",
       "    </tr>\n",
       "    <tr>\n",
       "      <th>28030</th>\n",
       "      <td>28030</td>\n",
       "      <td>MTTIVGVRAREVLDSRGFPTVEAEVELEGGARGRAMVPSGASTGTH...</td>\n",
       "      <td>7.0</td>\n",
       "      <td>doi.org/10.1038/s41592-020-0801-4</td>\n",
       "      <td>421</td>\n",
       "      <td>19</td>\n",
       "      <td>51</td>\n",
       "      <td>7</td>\n",
       "      <td>43</td>\n",
       "      <td>15</td>\n",
       "      <td>20</td>\n",
       "      <td>37</td>\n",
       "    </tr>\n",
       "    <tr>\n",
       "      <th>15725</th>\n",
       "      <td>15725</td>\n",
       "      <td>MLKQVEIFTDGSCLGNPGPGGYGAILRYRGREKTFSAGYTRTTNNR...</td>\n",
       "      <td>5.5</td>\n",
       "      <td>10.1021/bi00416a052</td>\n",
       "      <td>155</td>\n",
       "      <td>20</td>\n",
       "      <td>15</td>\n",
       "      <td>4</td>\n",
       "      <td>12</td>\n",
       "      <td>7</td>\n",
       "      <td>4</td>\n",
       "      <td>8</td>\n",
       "    </tr>\n",
       "    <tr>\n",
       "      <th>19966</th>\n",
       "      <td>19966</td>\n",
       "      <td>MNYFEMLRIDERLRLKIYKDTEGYYTIGIGHLLTKSPSLNAAKSEL...</td>\n",
       "      <td>4.2</td>\n",
       "      <td>NaN</td>\n",
       "      <td>164</td>\n",
       "      <td>20</td>\n",
       "      <td>15</td>\n",
       "      <td>5</td>\n",
       "      <td>8</td>\n",
       "      <td>12</td>\n",
       "      <td>6</td>\n",
       "      <td>9</td>\n",
       "    </tr>\n",
       "  </tbody>\n",
       "</table>\n",
       "<p>21031 rows × 12 columns</p>\n",
       "</div>"
      ],
      "text/plain": [
       "       seq_id                                   protein_sequence   pH  \\\n",
       "18894   18894  MNIFEMLRIDERLRLKIYKDTEGYYTIGIGHLLTKSPSLNAAKSEL...  3.0   \n",
       "20525   20525  MPNMSSIKAEQQSGPLGGSSGYQVPVNMCTTTVANTTTTLGSSAGG...  7.0   \n",
       "10626   10626  MFNIVVIASGNGSNFQAVIDAIDSGLINARIIKLISDNERANALNR...  7.0   \n",
       "10704   10704  MFRGATLVNLDSKGRLSVPTRYREQLLENAAGQMVCTIDIYHPCLL...  7.0   \n",
       "17781   17781  MMSFVSLLLVGILFHATQAEQLTKCEVFQKLKDLKDYGGVSLPEWV...  3.7   \n",
       "...       ...                                                ...  ...   \n",
       "28636   28636  MVKIVTVKTQAYPDQKPGTSGLRKRVKVFQSNANYAENFIQSIVST...  7.0   \n",
       "17730   17730  MMNYQYDVSVIIPAKNVEKFLRETLNGLLDQTACENSKIEICLADD...  7.0   \n",
       "28030   28030  MTTIVGVRAREVLDSRGFPTVEAEVELEGGARGRAMVPSGASTGTH...  7.0   \n",
       "15725   15725  MLKQVEIFTDGSCLGNPGPGGYGAILRYRGREKTFSAGYTRTTNNR...  5.5   \n",
       "19966   19966  MNYFEMLRIDERLRLKIYKDTEGYYTIGIGHLLTKSPSLNAAKSEL...  4.2   \n",
       "\n",
       "                             data_source  len_protein  unique_protein  num_A  \\\n",
       "18894       10.1016/0022-2836(84)90474-1          164              20     15   \n",
       "20525  doi.org/10.1038/s41592-020-0801-4          807              20     61   \n",
       "10626  doi.org/10.1038/s41592-020-0801-4          201              19     12   \n",
       "10704  doi.org/10.1038/s41592-020-0801-4          151              20      9   \n",
       "17781                                NaN          142              20      7   \n",
       "...                                  ...          ...             ...    ...   \n",
       "28636  doi.org/10.1038/s41592-020-0801-4          561              20     50   \n",
       "17730  doi.org/10.1038/s41592-020-0801-4          356              20     16   \n",
       "28030  doi.org/10.1038/s41592-020-0801-4          421              19     51   \n",
       "15725                10.1021/bi00416a052          155              20     15   \n",
       "19966                                NaN          164              20     15   \n",
       "\n",
       "       num_M  num_E  num_N  num_S  num_V  \n",
       "18894      4      8     12      6     10  \n",
       "20525     19     47     38    103     36  \n",
       "10626      4     10     15     17     15  \n",
       "10704      5     13      4      8      9  \n",
       "17781      2      6      8      8      8  \n",
       "...      ...    ...    ...    ...    ...  \n",
       "28636     12     30     27     35     39  \n",
       "17730      6     25     14     24     31  \n",
       "28030      7     43     15     20     37  \n",
       "15725      4     12      7      4      8  \n",
       "19966      5      8     12      6      9  \n",
       "\n",
       "[21031 rows x 12 columns]"
      ]
     },
     "execution_count": 11,
     "metadata": {},
     "output_type": "execute_result"
    }
   ],
   "source": [
    "\n",
    "#letra = \"AAABC\"\n",
    "X_train"
   ]
  },
  {
   "cell_type": "code",
   "execution_count": 12,
   "id": "0708b4fe",
   "metadata": {
    "execution": {
     "iopub.execute_input": "2022-10-23T12:30:03.007541Z",
     "iopub.status.busy": "2022-10-23T12:30:03.005198Z",
     "iopub.status.idle": "2022-10-23T12:30:03.027331Z",
     "shell.execute_reply": "2022-10-23T12:30:03.026122Z"
    },
    "papermill": {
     "duration": 0.033675,
     "end_time": "2022-10-23T12:30:03.029894",
     "exception": false,
     "start_time": "2022-10-23T12:30:02.996219",
     "status": "completed"
    },
    "tags": []
   },
   "outputs": [
    {
     "data": {
      "text/html": [
       "<div>\n",
       "<style scoped>\n",
       "    .dataframe tbody tr th:only-of-type {\n",
       "        vertical-align: middle;\n",
       "    }\n",
       "\n",
       "    .dataframe tbody tr th {\n",
       "        vertical-align: top;\n",
       "    }\n",
       "\n",
       "    .dataframe thead th {\n",
       "        text-align: right;\n",
       "    }\n",
       "</style>\n",
       "<table border=\"1\" class=\"dataframe\">\n",
       "  <thead>\n",
       "    <tr style=\"text-align: right;\">\n",
       "      <th></th>\n",
       "      <th>seq_id</th>\n",
       "      <th>pH</th>\n",
       "      <th>len_protein</th>\n",
       "      <th>unique_protein</th>\n",
       "      <th>num_A</th>\n",
       "      <th>num_M</th>\n",
       "      <th>num_E</th>\n",
       "      <th>num_N</th>\n",
       "      <th>num_S</th>\n",
       "      <th>num_V</th>\n",
       "    </tr>\n",
       "  </thead>\n",
       "  <tbody>\n",
       "    <tr>\n",
       "      <th>18894</th>\n",
       "      <td>18894</td>\n",
       "      <td>3.0</td>\n",
       "      <td>164</td>\n",
       "      <td>20</td>\n",
       "      <td>15</td>\n",
       "      <td>4</td>\n",
       "      <td>8</td>\n",
       "      <td>12</td>\n",
       "      <td>6</td>\n",
       "      <td>10</td>\n",
       "    </tr>\n",
       "  </tbody>\n",
       "</table>\n",
       "</div>"
      ],
      "text/plain": [
       "       seq_id   pH  len_protein  unique_protein  num_A  num_M  num_E  num_N  \\\n",
       "18894   18894  3.0          164              20     15      4      8     12   \n",
       "\n",
       "       num_S  num_V  \n",
       "18894      6     10  "
      ]
     },
     "execution_count": 12,
     "metadata": {},
     "output_type": "execute_result"
    }
   ],
   "source": [
    "# Crear nuevo feature con el largo del dataframe\n",
    "X_train = X_train.drop([\"data_source\", \"protein_sequence\"], axis =1)\n",
    "X_test = X_test.drop([\"data_source\", \"protein_sequence\"], axis =1)\n",
    "\n",
    "X_train.head(1)"
   ]
  },
  {
   "cell_type": "code",
   "execution_count": 13,
   "id": "fe00d47d",
   "metadata": {
    "execution": {
     "iopub.execute_input": "2022-10-23T12:30:03.047797Z",
     "iopub.status.busy": "2022-10-23T12:30:03.047036Z",
     "iopub.status.idle": "2022-10-23T12:30:03.052022Z",
     "shell.execute_reply": "2022-10-23T12:30:03.051113Z"
    },
    "papermill": {
     "duration": 0.016813,
     "end_time": "2022-10-23T12:30:03.054433",
     "exception": false,
     "start_time": "2022-10-23T12:30:03.037620",
     "status": "completed"
    },
    "tags": []
   },
   "outputs": [],
   "source": [
    "#from sklearn import preprocessing\n",
    "#lbl = preprocessing.OrdinalEncoder()\n",
    "#train['protein_sequence'] = lbl.fit_transform(train['protein_sequence'].astype(str))\n",
    "#test['protein_sequence'] = lbl.fit_transform(test['protein_sequence'].astype(str))"
   ]
  },
  {
   "cell_type": "code",
   "execution_count": 14,
   "id": "65f431f6",
   "metadata": {
    "execution": {
     "iopub.execute_input": "2022-10-23T12:30:03.072612Z",
     "iopub.status.busy": "2022-10-23T12:30:03.072153Z",
     "iopub.status.idle": "2022-10-23T12:30:03.207112Z",
     "shell.execute_reply": "2022-10-23T12:30:03.206108Z"
    },
    "papermill": {
     "duration": 0.147641,
     "end_time": "2022-10-23T12:30:03.209855",
     "exception": false,
     "start_time": "2022-10-23T12:30:03.062214",
     "status": "completed"
    },
    "tags": []
   },
   "outputs": [],
   "source": [
    "dtrain = xgb.DMatrix(X_train, \n",
    "                     label = y_train, )\n",
    "dtest = xgb.DMatrix(X_test)\n",
    "# specify parameters via map\n",
    "param = {'max_depth':10, 'eta':1, 'objective' :'reg:squarederror' }\n",
    "num_round = 2\n",
    "bst = xgb.train(param, dtrain, num_round)\n",
    "# make prediction\n",
    "preds = bst.predict(dtest)"
   ]
  },
  {
   "cell_type": "code",
   "execution_count": 15,
   "id": "abadcd0b",
   "metadata": {
    "execution": {
     "iopub.execute_input": "2022-10-23T12:30:03.229533Z",
     "iopub.status.busy": "2022-10-23T12:30:03.229056Z",
     "iopub.status.idle": "2022-10-23T12:30:03.287839Z",
     "shell.execute_reply": "2022-10-23T12:30:03.286281Z"
    },
    "papermill": {
     "duration": 0.071381,
     "end_time": "2022-10-23T12:30:03.290813",
     "exception": false,
     "start_time": "2022-10-23T12:30:03.219432",
     "status": "completed"
    },
    "tags": []
   },
   "outputs": [
    {
     "data": {
      "text/html": [
       "<div>\n",
       "<style scoped>\n",
       "    .dataframe tbody tr th:only-of-type {\n",
       "        vertical-align: middle;\n",
       "    }\n",
       "\n",
       "    .dataframe tbody tr th {\n",
       "        vertical-align: top;\n",
       "    }\n",
       "\n",
       "    .dataframe thead th {\n",
       "        text-align: right;\n",
       "    }\n",
       "</style>\n",
       "<table border=\"1\" class=\"dataframe\">\n",
       "  <thead>\n",
       "    <tr style=\"text-align: right;\">\n",
       "      <th></th>\n",
       "      <th>seq_id</th>\n",
       "      <th>pH</th>\n",
       "      <th>len_protein</th>\n",
       "      <th>unique_protein</th>\n",
       "      <th>num_A</th>\n",
       "      <th>num_M</th>\n",
       "      <th>num_E</th>\n",
       "      <th>num_N</th>\n",
       "      <th>num_S</th>\n",
       "      <th>num_V</th>\n",
       "    </tr>\n",
       "  </thead>\n",
       "  <tbody>\n",
       "    <tr>\n",
       "      <th>0</th>\n",
       "      <td>31390</td>\n",
       "      <td>8</td>\n",
       "      <td>221</td>\n",
       "      <td>18</td>\n",
       "      <td>22</td>\n",
       "      <td>0</td>\n",
       "      <td>8</td>\n",
       "      <td>19</td>\n",
       "      <td>18</td>\n",
       "      <td>13</td>\n",
       "    </tr>\n",
       "    <tr>\n",
       "      <th>1</th>\n",
       "      <td>31391</td>\n",
       "      <td>8</td>\n",
       "      <td>221</td>\n",
       "      <td>18</td>\n",
       "      <td>22</td>\n",
       "      <td>0</td>\n",
       "      <td>7</td>\n",
       "      <td>19</td>\n",
       "      <td>18</td>\n",
       "      <td>13</td>\n",
       "    </tr>\n",
       "    <tr>\n",
       "      <th>2</th>\n",
       "      <td>31392</td>\n",
       "      <td>8</td>\n",
       "      <td>220</td>\n",
       "      <td>18</td>\n",
       "      <td>22</td>\n",
       "      <td>0</td>\n",
       "      <td>7</td>\n",
       "      <td>19</td>\n",
       "      <td>18</td>\n",
       "      <td>13</td>\n",
       "    </tr>\n",
       "    <tr>\n",
       "      <th>3</th>\n",
       "      <td>31393</td>\n",
       "      <td>8</td>\n",
       "      <td>221</td>\n",
       "      <td>18</td>\n",
       "      <td>22</td>\n",
       "      <td>0</td>\n",
       "      <td>7</td>\n",
       "      <td>19</td>\n",
       "      <td>18</td>\n",
       "      <td>13</td>\n",
       "    </tr>\n",
       "    <tr>\n",
       "      <th>4</th>\n",
       "      <td>31394</td>\n",
       "      <td>8</td>\n",
       "      <td>221</td>\n",
       "      <td>18</td>\n",
       "      <td>22</td>\n",
       "      <td>0</td>\n",
       "      <td>7</td>\n",
       "      <td>19</td>\n",
       "      <td>18</td>\n",
       "      <td>13</td>\n",
       "    </tr>\n",
       "  </tbody>\n",
       "</table>\n",
       "</div>"
      ],
      "text/plain": [
       "   seq_id  pH  len_protein  unique_protein  num_A  num_M  num_E  num_N  num_S  \\\n",
       "0   31390   8          221              18     22      0      8     19     18   \n",
       "1   31391   8          221              18     22      0      7     19     18   \n",
       "2   31392   8          220              18     22      0      7     19     18   \n",
       "3   31393   8          221              18     22      0      7     19     18   \n",
       "4   31394   8          221              18     22      0      7     19     18   \n",
       "\n",
       "   num_V  \n",
       "0     13  \n",
       "1     13  \n",
       "2     13  \n",
       "3     13  \n",
       "4     13  "
      ]
     },
     "execution_count": 15,
     "metadata": {},
     "output_type": "execute_result"
    }
   ],
   "source": [
    "\n",
    "test = feature_extraction(test)\n",
    "test = test.drop([\"protein_sequence\", \"data_source\"], axis =1)\n",
    "test.head()"
   ]
  },
  {
   "cell_type": "code",
   "execution_count": 16,
   "id": "64ac764c",
   "metadata": {
    "execution": {
     "iopub.execute_input": "2022-10-23T12:30:03.309650Z",
     "iopub.status.busy": "2022-10-23T12:30:03.309167Z",
     "iopub.status.idle": "2022-10-23T12:30:03.327602Z",
     "shell.execute_reply": "2022-10-23T12:30:03.326525Z"
    },
    "papermill": {
     "duration": 0.030935,
     "end_time": "2022-10-23T12:30:03.330354",
     "exception": false,
     "start_time": "2022-10-23T12:30:03.299419",
     "status": "completed"
    },
    "tags": []
   },
   "outputs": [],
   "source": [
    "last_test = xgb.DMatrix(test)\n",
    "preds = bst.predict(last_test)"
   ]
  },
  {
   "cell_type": "code",
   "execution_count": 17,
   "id": "a3c130de",
   "metadata": {
    "execution": {
     "iopub.execute_input": "2022-10-23T12:30:03.351082Z",
     "iopub.status.busy": "2022-10-23T12:30:03.350688Z",
     "iopub.status.idle": "2022-10-23T12:30:03.356432Z",
     "shell.execute_reply": "2022-10-23T12:30:03.355126Z"
    },
    "papermill": {
     "duration": 0.018578,
     "end_time": "2022-10-23T12:30:03.358966",
     "exception": false,
     "start_time": "2022-10-23T12:30:03.340388",
     "status": "completed"
    },
    "tags": []
   },
   "outputs": [],
   "source": [
    "sample[\"tm\"] = preds"
   ]
  },
  {
   "cell_type": "code",
   "execution_count": 18,
   "id": "aecc48d3",
   "metadata": {
    "execution": {
     "iopub.execute_input": "2022-10-23T12:30:03.377292Z",
     "iopub.status.busy": "2022-10-23T12:30:03.376467Z",
     "iopub.status.idle": "2022-10-23T12:30:03.975871Z",
     "shell.execute_reply": "2022-10-23T12:30:03.974680Z"
    },
    "papermill": {
     "duration": 0.611087,
     "end_time": "2022-10-23T12:30:03.978255",
     "exception": false,
     "start_time": "2022-10-23T12:30:03.367168",
     "status": "completed"
    },
    "tags": []
   },
   "outputs": [
    {
     "data": {
      "text/plain": [
       "<AxesSubplot:ylabel='Frequency'>"
      ]
     },
     "execution_count": 18,
     "metadata": {},
     "output_type": "execute_result"
    },
    {
     "data": {
      "image/png": "[encoded data removed]",
      "text/plain": [
       "<Figure size 432x288 with 1 Axes>"
      ]
     },
     "metadata": {},
     "output_type": "display_data"
    }
   ],
   "source": [
    "sample.tm.plot(kind =\"hist\", bins =100)"
   ]
  },
  {
   "cell_type": "code",
   "execution_count": 19,
   "id": "b95ae8be",
   "metadata": {
    "execution": {
     "iopub.execute_input": "2022-10-23T12:30:03.997947Z",
     "iopub.status.busy": "2022-10-23T12:30:03.996971Z",
     "iopub.status.idle": "2022-10-23T12:30:04.010242Z",
     "shell.execute_reply": "2022-10-23T12:30:04.008970Z"
    },
    "papermill": {
     "duration": 0.026019,
     "end_time": "2022-10-23T12:30:04.013086",
     "exception": false,
     "start_time": "2022-10-23T12:30:03.987067",
     "status": "completed"
    },
    "tags": []
   },
   "outputs": [],
   "source": [
    "sample.to_csv(\"output.csv\", index = False)"
   ]
  },
  {
   "cell_type": "code",
   "execution_count": null,
   "id": "43c8ed97",
   "metadata": {
    "papermill": {
     "duration": 0.007967,
     "end_time": "2022-10-23T12:30:04.029400",
     "exception": false,
     "start_time": "2022-10-23T12:30:04.021433",
     "status": "completed"
    },
    "tags": []
   },
   "outputs": [],
   "source": []
  }
 ],
 "metadata": {
  "kernelspec": {
   "display_name": "Python 3",
   "language": "python",
   "name": "python3"
  },
  "language_info": {
   "codemirror_mode": {
    "name": "ipython",
    "version": 3
   },
   "file_extension": ".py",
   "mimetype": "text/x-python",
   "name": "python",
   "nbconvert_exporter": "python",
   "pygments_lexer": "ipython3",
   "version": "3.7.12"
  },
  "papermill": {
   "default_parameters": {},
   "duration": 16.984465,
   "end_time": "2022-10-23T12:30:04.860436",
   "environment_variables": {},
   "exception": null,
   "input_path": "__notebook__.ipynb",
   "output_path": "__notebook__.ipynb",
   "parameters": {},
   "start_time": "2022-10-23T12:29:47.875971",
   "version": "2.3.4"
  }
 },
 "nbformat": 4,
 "nbformat_minor": 5
}
